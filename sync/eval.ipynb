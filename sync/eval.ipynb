{
 "cells": [
  {
   "cell_type": "code",
   "execution_count": 1,
   "id": "9e70b768",
   "metadata": {},
   "outputs": [],
   "source": [
    "%load_ext autoreload\n",
    "%autoreload 2\n",
    "\n",
    "from datetime import datetime, timedelta\n",
    "\n",
    "import numpy as np\n",
    "import pandas as pd\n",
    "from tqdm import tqdm\n",
    "\n",
    "from sync import config\n",
    "from sync.preprocessor import Preprocessor, find_spadl_event_types\n",
    "from sync.elastic import ELASTIC\n",
    "\n",
    "pd.set_option('display.width', 250)\n",
    "pd.set_option('display.max_rows', 50)\n",
    "pd.set_option('display.max_columns', 30)"
   ]
  },
  {
   "cell_type": "markdown",
   "id": "c15d0e80",
   "metadata": {},
   "source": [
    "### Preprocessing original data"
   ]
  },
  {
   "cell_type": "code",
   "execution_count": null,
   "id": "67b22988",
   "metadata": {},
   "outputs": [
    {
     "name": "stderr",
     "output_type": "stream",
     "text": [
      "100%|██████████| 3/3 [00:11<00:00,  3.96s/it]\n"
     ]
    }
   ],
   "source": [
    "game_ids = [\"8qhuektrx8cmkxs11lxsdd4pg\", \"8t53c07vfe5vmg9jm0w7pq2vo\", \"9gewka7f25bz12mqrfm7ygjro\"]\n",
    "\n",
    "lineups = pd.read_parquet(\"data/ajax/lineup/line_up.parquet\")\n",
    "events = pd.read_parquet(\"data/ajax/event/event.parquet\")\n",
    "events[\"utc_timestamp\"] = pd.to_datetime(events[\"utc_timestamp\"])\n",
    "events = find_spadl_event_types(events)\n",
    "\n",
    "data_dict = dict()\n",
    "\n",
    "for game_id in tqdm(game_ids):\n",
    "    game_lineup = lineups.loc[lineups[\"stats_perform_match_id\"] == game_id].set_index(\"player_id\")\n",
    "    game_events = events[\n",
    "        (events[\"stats_perform_match_id\"] == game_id)\n",
    "        & (events[\"spadl_type\"].notna())\n",
    "        & (events[\"player_id\"].notna())\n",
    "    ].copy()\n",
    "\n",
    "    traces = pd.read_parquet(f\"data/ajax/tracking/{game_id}.parquet\")\n",
    "\n",
    "    proc = Preprocessor(game_lineup, game_events, traces)\n",
    "    input_events = proc.format_events_for_syncer()\n",
    "    input_traces = proc.format_traces_for_syncer()\n",
    "    start_utc = proc.traces.at[0, \"utc_timestamp\"]\n",
    "\n",
    "    data_dict[game_id] = {\"start_utc\": start_utc, \"events\": input_events, \"traces\": input_traces}"
   ]
  },
  {
   "cell_type": "markdown",
   "id": "be08db31",
   "metadata": {},
   "source": [
    "### Synchronizing the corrected event data with tracking data"
   ]
  },
  {
   "cell_type": "code",
   "execution_count": 3,
   "id": "e8238d8b",
   "metadata": {},
   "outputs": [],
   "source": [
    "def time_str_to_frame(t: str, fps=25) -> float:\n",
    "    return round((float(t[:2]) * 60 + float(t[3:])) * fps) if isinstance(t, str) else np.nan\n",
    "\n",
    "def frame_to_utc_timestamp(frame: float, start_utc: datetime, fps=25) -> datetime:\n",
    "    return start_utc + timedelta(seconds=frame / fps) if not np.isnan(frame) else np.nan\n",
    "\n",
    "def get_event_attr(event: pd.Series, col=\"x\"):\n",
    "    return input_traces[input_traces[\"ball\"]].set_index(\"frame\").at[event[\"frame\"], col]"
   ]
  },
  {
   "cell_type": "code",
   "execution_count": 4,
   "id": "d126ef09",
   "metadata": {},
   "outputs": [
    {
     "name": "stdout",
     "output_type": "stream",
     "text": [
      "\n",
      "8qhuektrx8cmkxs11lxsdd4pg\n"
     ]
    },
    {
     "name": "stderr",
     "output_type": "stream",
     "text": [
      "Syncing major events in period 1: 100%|██████████| 685/685 [00:20<00:00, 32.96it/s]\n",
      "Detecting receiving events: 100%|██████████| 613/613 [00:08<00:00, 70.34it/s]\n",
      "Post-syncing minor events: 100%|██████████| 75/75 [00:01<00:00, 53.46it/s]\n"
     ]
    },
    {
     "name": "stdout",
     "output_type": "stream",
     "text": [
      "\n",
      "8t53c07vfe5vmg9jm0w7pq2vo\n"
     ]
    },
    {
     "name": "stderr",
     "output_type": "stream",
     "text": [
      "Syncing major events in period 1: 100%|██████████| 551/551 [00:16<00:00, 34.33it/s]\n",
      "Detecting receiving events: 100%|██████████| 498/498 [00:07<00:00, 70.17it/s]\n",
      "Post-syncing minor events: 100%|██████████| 86/86 [00:02<00:00, 39.26it/s]\n"
     ]
    },
    {
     "name": "stdout",
     "output_type": "stream",
     "text": [
      "\n",
      "9gewka7f25bz12mqrfm7ygjro\n"
     ]
    },
    {
     "name": "stderr",
     "output_type": "stream",
     "text": [
      "Syncing major events in period 1: 100%|██████████| 664/664 [00:20<00:00, 33.01it/s]\n",
      "Detecting receiving events: 100%|██████████| 609/609 [00:08<00:00, 68.53it/s]\n",
      "Post-syncing minor events: 100%|██████████| 70/70 [00:01<00:00, 39.77it/s]\n"
     ]
    }
   ],
   "source": [
    "for game_id in game_ids:\n",
    "    print()\n",
    "    print(game_id)\n",
    "    \n",
    "    start_utc = data_dict[game_id][\"start_utc\"]\n",
    "    input_events = data_dict[game_id][\"events\"]\n",
    "    input_traces = data_dict[game_id][\"traces\"]\n",
    "\n",
    "    data_path = f\"data/ajax/event_corrected/{game_id}.csv\"\n",
    "    drop_cols = [\"next_player_id\", \"next_type\", \"receive_frame\", \"note\"]\n",
    "    corrected = pd.read_csv(data_path, header=0).drop(drop_cols, axis=1)\n",
    "    corrected.loc[corrected[\"spadl_type\"] == \"ball_touch\", \"spadl_type\"] = \"bad_touch\"\n",
    "    corrected = corrected[(corrected[\"period_id\"] == 1) & (corrected[\"spadl_type\"] != \"shield_ball_oop\")].copy()\n",
    "\n",
    "    corrected[\"frame\"] = corrected[\"synced_ts\"].apply(time_str_to_frame)\n",
    "    corrected[\"receive_frame\"] = corrected[\"receive_ts\"].apply(time_str_to_frame)\n",
    "\n",
    "    period_events = input_events[input_events[\"period_id\"] == 1]\n",
    "    corrected.loc[corrected[\"error_type\"] != \"missing\", \"utc_timestamp\"] = period_events[\"utc_timestamp\"].values\n",
    "    corrected.loc[corrected[\"error_type\"] != \"missing\", \"start_x\"] = period_events[\"start_x\"].values\n",
    "    corrected.loc[corrected[\"error_type\"] != \"missing\", \"start_y\"] = period_events[\"start_y\"].values\n",
    "    corrected[\"utc_timestamp\"] = pd.to_datetime(corrected[\"utc_timestamp\"])\n",
    "\n",
    "    missing = corrected[corrected[\"error_type\"] == \"missing\"].copy()\n",
    "    corrected.loc[missing.index, \"utc_timestamp\"] = missing[\"frame\"].apply(frame_to_utc_timestamp, args=(start_utc,))\n",
    "    corrected.loc[missing.index, \"start_x\"] = missing.apply(get_event_attr, col=\"x\", axis=1)\n",
    "    corrected.loc[missing.index, \"start_y\"] = missing.apply(get_event_attr, col=\"y\", axis=1)\n",
    "\n",
    "    corrected_input = corrected.loc[corrected[\"error_type\"] != \"false_positive\", input_events.columns].copy()\n",
    "    corrected_input.reset_index(drop=True, inplace=True)\n",
    "\n",
    "    syncer = ELASTIC(corrected_input, input_traces)\n",
    "    syncer.run()\n",
    "\n",
    "    data_dict[game_id][\"corrected_events\"] = corrected\n",
    "    data_dict[game_id][\"synced_events\"] = syncer.events"
   ]
  },
  {
   "cell_type": "markdown",
   "id": "fe6ae73d",
   "metadata": {},
   "source": [
    "### Calculating accuracy"
   ]
  },
  {
   "cell_type": "code",
   "execution_count": 5,
   "id": "0e42e534",
   "metadata": {},
   "outputs": [
    {
     "data": {
      "text/plain": [
       "(2134, 2134)"
      ]
     },
     "execution_count": 5,
     "metadata": {},
     "output_type": "execute_result"
    }
   ],
   "source": [
    "synced = []\n",
    "corrected = []\n",
    "\n",
    "for game_id, data in data_dict.items():\n",
    "    game_events = data[\"synced_events\"]\n",
    "    game_events[\"game_id\"] = game_id\n",
    "    synced.append(game_events)\n",
    "    corrected.append(data[\"corrected_events\"])\n",
    "\n",
    "synced = pd.concat(synced, ignore_index=True)\n",
    "corrected = pd.concat(corrected, ignore_index=True)\n",
    "\n",
    "true_frames_s = corrected.loc[corrected[\"error_type\"] != \"false_positive\", \"frame\"].round().values\n",
    "true_frames_r = corrected.loc[corrected[\"error_type\"] != \"false_positive\", \"receive_frame\"].round().values\n",
    "len(synced), len(true_frames_s)"
   ]
  },
  {
   "cell_type": "code",
   "execution_count": 6,
   "id": "2f814bba",
   "metadata": {},
   "outputs": [
    {
     "data": {
      "application/vnd.microsoft.datawrangler.viewer.v0+json": {
       "columns": [
        {
         "name": "event_cat",
         "rawType": "object",
         "type": "string"
        },
        {
         "name": "count",
         "rawType": "int64",
         "type": "integer"
        }
       ],
       "ref": "48287cc5-55df-4b68-a4e5-183e7eb4ab40",
       "rows": [
        [
         "pass_like",
         "1590"
        ],
        [
         "minor",
         "231"
        ],
        [
         "incoming",
         "168"
        ],
        [
         "set_piece",
         "117"
        ],
        [
         "tackle",
         "28"
        ]
       ],
       "shape": {
        "columns": 1,
        "rows": 5
       }
      },
      "text/plain": [
       "event_cat\n",
       "pass_like    1590\n",
       "minor         231\n",
       "incoming      168\n",
       "set_piece     117\n",
       "tackle         28\n",
       "Name: count, dtype: int64"
      ]
     },
     "execution_count": 6,
     "metadata": {},
     "output_type": "execute_result"
    }
   ],
   "source": [
    "pass_like_dict = {x: \"pass_like\" for x in config.PASS_LIKE_OPEN}\n",
    "set_piece_dict = {x: \"set_piece\" for x in config.SET_PIECE}\n",
    "incoming_dict = {x: \"incoming\" for x in config.INCOMING}\n",
    "tackle_dict = {\"tackle\": \"tackle\"}\n",
    "minor_dict = {x: \"minor\" for x in config.MINOR}\n",
    "event_cats = pass_like_dict | set_piece_dict | incoming_dict | tackle_dict | minor_dict\n",
    "synced[\"event_cat\"] = synced[\"spadl_type\"].map(event_cats)\n",
    "synced[\"event_cat\"].value_counts()"
   ]
  },
  {
   "cell_type": "code",
   "execution_count": 10,
   "id": "a3d064f3",
   "metadata": {},
   "outputs": [
    {
     "data": {
      "application/vnd.microsoft.datawrangler.viewer.v0+json": {
       "columns": [
        {
         "name": "index",
         "rawType": "object",
         "type": "string"
        },
        {
         "name": "total",
         "rawType": "int64",
         "type": "integer"
        },
        {
         "name": "mean_diff",
         "rawType": "float64",
         "type": "float"
        },
        {
         "name": "exact",
         "rawType": "int64",
         "type": "integer"
        },
        {
         "name": "within_5",
         "rawType": "int64",
         "type": "integer"
        },
        {
         "name": "within_25",
         "rawType": "int64",
         "type": "integer"
        },
        {
         "name": "within_50",
         "rawType": "int64",
         "type": "integer"
        },
        {
         "name": "valid",
         "rawType": "int64",
         "type": "integer"
        }
       ],
       "ref": "90f5da25-0e9c-4b9d-a2dc-d687c8647cf2",
       "rows": [
        [
         "pass_like",
         "1590",
         "0.5690642902609803",
         "1520",
         "1546",
         "1561",
         "1566",
         "1571"
        ],
        [
         "set_piece",
         "117",
         "0.12280701754385964",
         "108",
         "113",
         "114",
         "114",
         "114"
        ],
        [
         "incoming",
         "168",
         "6.5843373493975905",
         "144",
         "147",
         "151",
         "158",
         "166"
        ],
        [
         "tackle",
         "28",
         "11.296296296296296",
         "12",
         "18",
         "22",
         "25",
         "27"
        ],
        [
         "minor",
         "231",
         "12.883928571428571",
         "101",
         "151",
         "174",
         "210",
         "224"
        ],
        [
         "all_but_receive",
         "2134",
         "2.4700285442435774",
         "1885",
         "1975",
         "2022",
         "2073",
         "2102"
        ],
        [
         "receive",
         "1745",
         "1.7212827988338193",
         "1612",
         "1654",
         "1676",
         "1694",
         "1715"
        ],
        [
         "all_with_receive",
         "3879",
         "2.099510183036865",
         "3497",
         "3629",
         "3698",
         "3767",
         "3817"
        ]
       ],
       "shape": {
        "columns": 7,
        "rows": 8
       }
      },
      "text/html": [
       "<div>\n",
       "<style scoped>\n",
       "    .dataframe tbody tr th:only-of-type {\n",
       "        vertical-align: middle;\n",
       "    }\n",
       "\n",
       "    .dataframe tbody tr th {\n",
       "        vertical-align: top;\n",
       "    }\n",
       "\n",
       "    .dataframe thead th {\n",
       "        text-align: right;\n",
       "    }\n",
       "</style>\n",
       "<table border=\"1\" class=\"dataframe\">\n",
       "  <thead>\n",
       "    <tr style=\"text-align: right;\">\n",
       "      <th></th>\n",
       "      <th>total</th>\n",
       "      <th>mean_diff</th>\n",
       "      <th>exact</th>\n",
       "      <th>within_5</th>\n",
       "      <th>within_25</th>\n",
       "      <th>within_50</th>\n",
       "      <th>valid</th>\n",
       "    </tr>\n",
       "  </thead>\n",
       "  <tbody>\n",
       "    <tr>\n",
       "      <th>pass_like</th>\n",
       "      <td>1590</td>\n",
       "      <td>0.569064</td>\n",
       "      <td>1520</td>\n",
       "      <td>1546</td>\n",
       "      <td>1561</td>\n",
       "      <td>1566</td>\n",
       "      <td>1571</td>\n",
       "    </tr>\n",
       "    <tr>\n",
       "      <th>set_piece</th>\n",
       "      <td>117</td>\n",
       "      <td>0.122807</td>\n",
       "      <td>108</td>\n",
       "      <td>113</td>\n",
       "      <td>114</td>\n",
       "      <td>114</td>\n",
       "      <td>114</td>\n",
       "    </tr>\n",
       "    <tr>\n",
       "      <th>incoming</th>\n",
       "      <td>168</td>\n",
       "      <td>6.584337</td>\n",
       "      <td>144</td>\n",
       "      <td>147</td>\n",
       "      <td>151</td>\n",
       "      <td>158</td>\n",
       "      <td>166</td>\n",
       "    </tr>\n",
       "    <tr>\n",
       "      <th>tackle</th>\n",
       "      <td>28</td>\n",
       "      <td>11.296296</td>\n",
       "      <td>12</td>\n",
       "      <td>18</td>\n",
       "      <td>22</td>\n",
       "      <td>25</td>\n",
       "      <td>27</td>\n",
       "    </tr>\n",
       "    <tr>\n",
       "      <th>minor</th>\n",
       "      <td>231</td>\n",
       "      <td>12.883929</td>\n",
       "      <td>101</td>\n",
       "      <td>151</td>\n",
       "      <td>174</td>\n",
       "      <td>210</td>\n",
       "      <td>224</td>\n",
       "    </tr>\n",
       "    <tr>\n",
       "      <th>all_but_receive</th>\n",
       "      <td>2134</td>\n",
       "      <td>2.470029</td>\n",
       "      <td>1885</td>\n",
       "      <td>1975</td>\n",
       "      <td>2022</td>\n",
       "      <td>2073</td>\n",
       "      <td>2102</td>\n",
       "    </tr>\n",
       "    <tr>\n",
       "      <th>receive</th>\n",
       "      <td>1745</td>\n",
       "      <td>1.721283</td>\n",
       "      <td>1612</td>\n",
       "      <td>1654</td>\n",
       "      <td>1676</td>\n",
       "      <td>1694</td>\n",
       "      <td>1715</td>\n",
       "    </tr>\n",
       "    <tr>\n",
       "      <th>all_with_receive</th>\n",
       "      <td>3879</td>\n",
       "      <td>2.099510</td>\n",
       "      <td>3497</td>\n",
       "      <td>3629</td>\n",
       "      <td>3698</td>\n",
       "      <td>3767</td>\n",
       "      <td>3817</td>\n",
       "    </tr>\n",
       "  </tbody>\n",
       "</table>\n",
       "</div>"
      ],
      "text/plain": [
       "                  total  mean_diff  exact  within_5  within_25  within_50  valid\n",
       "pass_like          1590   0.569064   1520      1546       1561       1566   1571\n",
       "set_piece           117   0.122807    108       113        114        114    114\n",
       "incoming            168   6.584337    144       147        151        158    166\n",
       "tackle               28  11.296296     12        18         22         25     27\n",
       "minor               231  12.883929    101       151        174        210    224\n",
       "all_but_receive    2134   2.470029   1885      1975       2022       2073   2102\n",
       "receive            1745   1.721283   1612      1654       1676       1694   1715\n",
       "all_with_receive   3879   2.099510   3497      3629       3698       3767   3817"
      ]
     },
     "execution_count": 10,
     "metadata": {},
     "output_type": "execute_result"
    }
   ],
   "source": [
    "acc_counts = dict()\n",
    "acc_rates = dict()\n",
    "\n",
    "for cat in [\"pass_like\", \"set_piece\", \"incoming\", \"tackle\", \"minor\"]:\n",
    "    cat_events = synced[synced[\"event_cat\"] == cat]\n",
    "    cat_true_frames = true_frames_s[cat_events.index]\n",
    "    \n",
    "    cat_acc = dict()\n",
    "    cat_acc[\"total\"] = len(cat_events)\n",
    "    cat_acc[\"mean_diff\"] = (cat_events[\"frame\"] - cat_true_frames).abs().mean()\n",
    "    cat_acc[\"exact\"] = (cat_events[\"frame\"] == cat_true_frames).astype(int).sum()\n",
    "    cat_acc[\"within_5\"] = ((cat_events[\"frame\"] - cat_true_frames).abs() <= 5).astype(int).sum()\n",
    "    cat_acc[\"within_25\"] = ((cat_events[\"frame\"] - cat_true_frames).abs() <= 25).astype(int).sum()\n",
    "    cat_acc[\"within_50\"] = ((cat_events[\"frame\"] - cat_true_frames).abs() <= 50).astype(int).sum()\n",
    "    cat_acc[\"valid\"] = (cat_events[\"frame\"].notna()).astype(int).sum()\n",
    "    acc_counts[cat] = cat_acc\n",
    "\n",
    "acc_counts = pd.DataFrame(acc_counts).T\n",
    "acc_counts.loc[\"all_but_receive\"] = acc_counts.sum(axis=0)\n",
    "acc_counts.at[\"all_but_receive\", \"mean_diff\"] = (synced[\"frame\"] - true_frames_s).abs().mean()\n",
    "\n",
    "receive_acc = dict()\n",
    "receive_acc[\"total\"] = len(corrected[(corrected[\"error_type\"] != \"false_positive\") & (corrected[\"receive_frame\"].notna())])\n",
    "receive_acc[\"mean_diff\"] = (synced['receive_frame'] - true_frames_r).abs().mean()\n",
    "receive_acc[\"exact\"] = (synced[\"receive_frame\"] == true_frames_r).astype(int).sum()\n",
    "receive_acc[\"within_5\"] = ((synced[\"receive_frame\"] - true_frames_r).abs() <= 5).astype(int).sum()\n",
    "receive_acc[\"within_25\"] = ((synced[\"receive_frame\"] - true_frames_r).abs() <= 25).astype(int).sum()\n",
    "receive_acc[\"within_50\"] = ((synced[\"receive_frame\"] - true_frames_r).abs() <= 50).astype(int).sum()\n",
    "receive_acc[\"valid\"] = (synced[\"receive_frame\"].notna()).astype(int).sum()\n",
    "acc_counts.loc[\"receive\"] = receive_acc\n",
    "\n",
    "acc_counts.loc[\"all_with_receive\"] = acc_counts.loc[\"all_but_receive\"] + acc_counts.loc[\"receive\"]\n",
    "sum_diff_s = (synced['frame'] - true_frames_s).abs().sum()\n",
    "sum_diff_r = (synced['receive_frame'] - true_frames_r).abs().sum()\n",
    "acc_counts.at[\"all_with_receive\", \"mean_diff\"] = (sum_diff_s + sum_diff_r) / acc_counts.at[\"all_with_receive\", \"total\"]\n",
    "\n",
    "int_cols = [\"total\", \"exact\", \"within_5\", \"within_25\", \"within_50\", \"valid\"]\n",
    "acc_counts[int_cols] = acc_counts[int_cols].astype(int)\n",
    "acc_counts"
   ]
  },
  {
   "cell_type": "code",
   "execution_count": 11,
   "id": "3e1e585a",
   "metadata": {},
   "outputs": [
    {
     "data": {
      "application/vnd.microsoft.datawrangler.viewer.v0+json": {
       "columns": [
        {
         "name": "index",
         "rawType": "object",
         "type": "string"
        },
        {
         "name": "exact",
         "rawType": "float64",
         "type": "float"
        },
        {
         "name": "within_5",
         "rawType": "float64",
         "type": "float"
        },
        {
         "name": "within_25",
         "rawType": "float64",
         "type": "float"
        },
        {
         "name": "within_50",
         "rawType": "float64",
         "type": "float"
        },
        {
         "name": "valid",
         "rawType": "float64",
         "type": "float"
        }
       ],
       "ref": "94ba8ba7-7094-4c33-997f-e35b7b8ede97",
       "rows": [
        [
         "pass_like",
         "0.9559748427672956",
         "0.9723270440251572",
         "0.9817610062893082",
         "0.9849056603773585",
         "0.9880503144654088"
        ],
        [
         "set_piece",
         "0.9230769230769231",
         "0.9658119658119658",
         "0.9743589743589743",
         "0.9743589743589743",
         "0.9743589743589743"
        ],
        [
         "incoming",
         "0.8571428571428571",
         "0.875",
         "0.8988095238095238",
         "0.9404761904761905",
         "0.9880952380952381"
        ],
        [
         "tackle",
         "0.42857142857142855",
         "0.6428571428571429",
         "0.7857142857142857",
         "0.8928571428571429",
         "0.9642857142857143"
        ],
        [
         "minor",
         "0.43722943722943725",
         "0.6536796536796536",
         "0.7532467532467533",
         "0.9090909090909091",
         "0.9696969696969697"
        ],
        [
         "all_but_receive",
         "0.8833177132146204",
         "0.9254920337394564",
         "0.9475164011246485",
         "0.971415182755389",
         "0.9850046860356139"
        ],
        [
         "receive",
         "0.92378223495702",
         "0.9478510028653295",
         "0.960458452722063",
         "0.9707736389684813",
         "0.9828080229226361"
        ],
        [
         "all_with_receive",
         "0.9015210105697344",
         "0.9355503995875225",
         "0.9533384893013663",
         "0.9711265790152102",
         "0.9840164990977056"
        ]
       ],
       "shape": {
        "columns": 5,
        "rows": 8
       }
      },
      "text/html": [
       "<div>\n",
       "<style scoped>\n",
       "    .dataframe tbody tr th:only-of-type {\n",
       "        vertical-align: middle;\n",
       "    }\n",
       "\n",
       "    .dataframe tbody tr th {\n",
       "        vertical-align: top;\n",
       "    }\n",
       "\n",
       "    .dataframe thead th {\n",
       "        text-align: right;\n",
       "    }\n",
       "</style>\n",
       "<table border=\"1\" class=\"dataframe\">\n",
       "  <thead>\n",
       "    <tr style=\"text-align: right;\">\n",
       "      <th></th>\n",
       "      <th>exact</th>\n",
       "      <th>within_5</th>\n",
       "      <th>within_25</th>\n",
       "      <th>within_50</th>\n",
       "      <th>valid</th>\n",
       "    </tr>\n",
       "  </thead>\n",
       "  <tbody>\n",
       "    <tr>\n",
       "      <th>pass_like</th>\n",
       "      <td>0.955975</td>\n",
       "      <td>0.972327</td>\n",
       "      <td>0.981761</td>\n",
       "      <td>0.984906</td>\n",
       "      <td>0.988050</td>\n",
       "    </tr>\n",
       "    <tr>\n",
       "      <th>set_piece</th>\n",
       "      <td>0.923077</td>\n",
       "      <td>0.965812</td>\n",
       "      <td>0.974359</td>\n",
       "      <td>0.974359</td>\n",
       "      <td>0.974359</td>\n",
       "    </tr>\n",
       "    <tr>\n",
       "      <th>incoming</th>\n",
       "      <td>0.857143</td>\n",
       "      <td>0.875000</td>\n",
       "      <td>0.898810</td>\n",
       "      <td>0.940476</td>\n",
       "      <td>0.988095</td>\n",
       "    </tr>\n",
       "    <tr>\n",
       "      <th>tackle</th>\n",
       "      <td>0.428571</td>\n",
       "      <td>0.642857</td>\n",
       "      <td>0.785714</td>\n",
       "      <td>0.892857</td>\n",
       "      <td>0.964286</td>\n",
       "    </tr>\n",
       "    <tr>\n",
       "      <th>minor</th>\n",
       "      <td>0.437229</td>\n",
       "      <td>0.653680</td>\n",
       "      <td>0.753247</td>\n",
       "      <td>0.909091</td>\n",
       "      <td>0.969697</td>\n",
       "    </tr>\n",
       "    <tr>\n",
       "      <th>all_but_receive</th>\n",
       "      <td>0.883318</td>\n",
       "      <td>0.925492</td>\n",
       "      <td>0.947516</td>\n",
       "      <td>0.971415</td>\n",
       "      <td>0.985005</td>\n",
       "    </tr>\n",
       "    <tr>\n",
       "      <th>receive</th>\n",
       "      <td>0.923782</td>\n",
       "      <td>0.947851</td>\n",
       "      <td>0.960458</td>\n",
       "      <td>0.970774</td>\n",
       "      <td>0.982808</td>\n",
       "    </tr>\n",
       "    <tr>\n",
       "      <th>all_with_receive</th>\n",
       "      <td>0.901521</td>\n",
       "      <td>0.935550</td>\n",
       "      <td>0.953338</td>\n",
       "      <td>0.971127</td>\n",
       "      <td>0.984016</td>\n",
       "    </tr>\n",
       "  </tbody>\n",
       "</table>\n",
       "</div>"
      ],
      "text/plain": [
       "                     exact  within_5  within_25  within_50     valid\n",
       "pass_like         0.955975  0.972327   0.981761   0.984906  0.988050\n",
       "set_piece         0.923077  0.965812   0.974359   0.974359  0.974359\n",
       "incoming          0.857143  0.875000   0.898810   0.940476  0.988095\n",
       "tackle            0.428571  0.642857   0.785714   0.892857  0.964286\n",
       "minor             0.437229  0.653680   0.753247   0.909091  0.969697\n",
       "all_but_receive   0.883318  0.925492   0.947516   0.971415  0.985005\n",
       "receive           0.923782  0.947851   0.960458   0.970774  0.982808\n",
       "all_with_receive  0.901521  0.935550   0.953338   0.971127  0.984016"
      ]
     },
     "execution_count": 11,
     "metadata": {},
     "output_type": "execute_result"
    }
   ],
   "source": [
    "acc_rates = acc_counts.drop([\"total\", \"mean_diff\"], axis=1).div(acc_counts[\"total\"], axis=0)\n",
    "acc_rates"
   ]
  }
 ],
 "metadata": {
  "kernelspec": {
   "display_name": "pyg",
   "language": "python",
   "name": "python3"
  },
  "language_info": {
   "codemirror_mode": {
    "name": "ipython",
    "version": 3
   },
   "file_extension": ".py",
   "mimetype": "text/x-python",
   "name": "python",
   "nbconvert_exporter": "python",
   "pygments_lexer": "ipython3",
   "version": "3.10.16"
  }
 },
 "nbformat": 4,
 "nbformat_minor": 5
}
