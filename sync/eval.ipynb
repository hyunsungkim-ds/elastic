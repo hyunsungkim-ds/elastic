{
 "cells": [
  {
   "cell_type": "code",
   "execution_count": 15,
   "id": "9e70b768",
   "metadata": {},
   "outputs": [
    {
     "name": "stdout",
     "output_type": "stream",
     "text": [
      "The autoreload extension is already loaded. To reload it, use:\n",
      "  %reload_ext autoreload\n"
     ]
    }
   ],
   "source": [
    "%load_ext autoreload\n",
    "%autoreload 2\n",
    "\n",
    "from datetime import datetime, timedelta\n",
    "\n",
    "import numpy as np\n",
    "import pandas as pd\n",
    "from tqdm import tqdm\n",
    "\n",
    "from sync import config, elastic, etsy\n",
    "from sync.preprocessor import Preprocessor, find_spadl_event_types\n",
    "\n",
    "pd.set_option('display.width', 250)\n",
    "pd.set_option('display.max_rows', 50)\n",
    "pd.set_option('display.max_columns', 30)"
   ]
  },
  {
   "cell_type": "markdown",
   "id": "c15d0e80",
   "metadata": {},
   "source": [
    "### Preprocessing original data"
   ]
  },
  {
   "cell_type": "code",
   "execution_count": 10,
   "id": "67b22988",
   "metadata": {},
   "outputs": [
    {
     "name": "stderr",
     "output_type": "stream",
     "text": [
      "100%|██████████| 3/3 [00:07<00:00,  2.57s/it]\n"
     ]
    }
   ],
   "source": [
    "game_ids = [\"8qhuektrx8cmkxs11lxsdd4pg\", \"8t53c07vfe5vmg9jm0w7pq2vo\", \"9gewka7f25bz12mqrfm7ygjro\"]\n",
    "\n",
    "lineups = pd.read_parquet(\"data/ajax/lineup/line_up.parquet\")\n",
    "events = pd.read_parquet(\"data/ajax/event/event.parquet\")\n",
    "events[\"utc_timestamp\"] = pd.to_datetime(events[\"utc_timestamp\"])\n",
    "events = find_spadl_event_types(events)\n",
    "\n",
    "data_dict = dict()\n",
    "\n",
    "for game_id in tqdm(game_ids):\n",
    "    game_lineup = lineups.loc[lineups[\"stats_perform_match_id\"] == game_id].set_index(\"player_id\")\n",
    "    game_events = events[\n",
    "        (events[\"stats_perform_match_id\"] == game_id)\n",
    "        & (events[\"spadl_type\"].notna())\n",
    "        & (events[\"player_id\"].notna())\n",
    "    ].copy()\n",
    "\n",
    "    traces = pd.read_parquet(f\"data/ajax/tracking/{game_id}.parquet\")\n",
    "\n",
    "    proc = Preprocessor(game_lineup, game_events, traces)\n",
    "    input_events = proc.format_events_for_syncer()\n",
    "    input_traces = proc.format_traces_for_syncer()\n",
    "    start_utc = proc.traces.at[0, \"utc_timestamp\"]\n",
    "\n",
    "    data_dict[game_id] = {\"start_utc\": start_utc, \"events\": input_events, \"traces\": input_traces}"
   ]
  },
  {
   "cell_type": "markdown",
   "id": "877ad80a",
   "metadata": {},
   "source": [
    "### Aligning indices of event data with ground truth annotation"
   ]
  },
  {
   "cell_type": "markdown",
   "id": "226d45ae",
   "metadata": {},
   "source": [
    "Considering that the annotated event data includes annotation of false positives and missing values, the following code aligns the indices of input events with annotated ones for evaluating accuracy.\n",
    "\n",
    "If you do not have annotated events for evaluation or if your annotated events already have the same indices with the input event data, you can skip the following cell."
   ]
  },
  {
   "cell_type": "code",
   "execution_count": 8,
   "id": "e8238d8b",
   "metadata": {},
   "outputs": [],
   "source": [
    "def time_str_to_frame(t: str, fps=25) -> float:\n",
    "    return round((float(t[:2]) * 60 + float(t[3:])) * fps) if isinstance(t, str) else np.nan\n",
    "\n",
    "def frame_to_utc_timestamp(frame: float, start_utc: datetime, fps=25) -> datetime:\n",
    "    return start_utc + timedelta(seconds=frame / fps) if not np.isnan(frame) else np.nan\n",
    "\n",
    "def get_event_attr(event: pd.Series, traces: pd.DataFrame, col=\"x\"):\n",
    "    return input_traces[input_traces[\"ball\"]].set_index(\"frame\").at[event[\"frame\"], col]"
   ]
  },
  {
   "cell_type": "code",
   "execution_count": null,
   "id": "9d9355af",
   "metadata": {},
   "outputs": [],
   "source": [
    "for game_id in game_ids:\n",
    "    start_utc = data_dict[game_id][\"start_utc\"]\n",
    "    input_events = data_dict[game_id][\"events\"]\n",
    "    input_traces = data_dict[game_id][\"traces\"]\n",
    "\n",
    "    data_path = f\"data/ajax/event_corrected/{game_id}.csv\"\n",
    "    drop_cols = [\"next_player_id\", \"next_type\", \"receive_frame\", \"note\"]\n",
    "    annotated = pd.read_csv(data_path, header=0).drop(drop_cols, axis=1)\n",
    "    annotated.loc[annotated[\"spadl_type\"] == \"ball_touch\", \"spadl_type\"] = \"bad_touch\"\n",
    "    annotated = annotated[(annotated[\"period_id\"] == 1) & (annotated[\"spadl_type\"] != \"shield_ball_oop\")].copy()\n",
    "\n",
    "    annotated[\"frame\"] = annotated[\"synced_ts\"].apply(time_str_to_frame)\n",
    "    annotated[\"receive_frame\"] = annotated[\"receive_ts\"].apply(time_str_to_frame)\n",
    "\n",
    "    period_events = input_events[input_events[\"period_id\"] == 1]\n",
    "    annotated.loc[annotated[\"error_type\"] != \"missing\", \"utc_timestamp\"] = period_events[\"utc_timestamp\"].values\n",
    "    annotated.loc[annotated[\"error_type\"] != \"missing\", \"start_x\"] = period_events[\"start_x\"].values\n",
    "    annotated.loc[annotated[\"error_type\"] != \"missing\", \"start_y\"] = period_events[\"start_y\"].values\n",
    "    annotated[\"utc_timestamp\"] = pd.to_datetime(annotated[\"utc_timestamp\"])\n",
    "\n",
    "    missing = annotated[annotated[\"error_type\"] == \"missing\"].copy()\n",
    "    annotated.loc[missing.index, \"utc_timestamp\"] = missing[\"frame\"].apply(frame_to_utc_timestamp, args=(start_utc,))\n",
    "    annotated.loc[missing.index, \"start_x\"] = missing.apply(get_event_attr, traces=input_traces, col=\"x\", axis=1)\n",
    "    annotated.loc[missing.index, \"start_y\"] = missing.apply(get_event_attr, traces=input_traces, col=\"y\", axis=1)\n",
    "\n",
    "    data_dict[game_id][\"annotated_events\"] = annotated"
   ]
  },
  {
   "cell_type": "markdown",
   "id": "147b657a",
   "metadata": {},
   "source": [
    "### Calculating the accuracy of ELASTIC"
   ]
  },
  {
   "cell_type": "code",
   "execution_count": 22,
   "id": "334c3a98",
   "metadata": {},
   "outputs": [],
   "source": [
    "def calc_accuracy(synced: pd.DataFrame, annotated: pd.DataFrame, include_receive: bool = True):\n",
    "    pass_like_dict = {x: \"pass_like\" for x in config.PASS_LIKE_OPEN}\n",
    "    set_piece_dict = {x: \"set_piece\" for x in config.SET_PIECE}\n",
    "    incoming_dict = {x: \"incoming\" for x in config.INCOMING}\n",
    "    minor_dict = {x: \"minor\" for x in config.MINOR}\n",
    "    event_cats = pass_like_dict | set_piece_dict | incoming_dict | minor_dict\n",
    "    synced[\"event_cat\"] = synced[\"spadl_type\"].map(event_cats)\n",
    "    synced[\"event_cat\"].value_counts()\n",
    "\n",
    "    true_frames_s = annotated.loc[annotated[\"error_type\"] != \"false_positive\", \"frame\"].round().values\n",
    "    true_frames_r = annotated.loc[annotated[\"error_type\"] != \"false_positive\", \"receive_frame\"].round().values\n",
    "\n",
    "    acc_counts = dict()\n",
    "\n",
    "    for cat in [\"pass_like\", \"set_piece\", \"incoming\", \"minor\"]:\n",
    "        cat_events = synced[synced[\"event_cat\"] == cat]\n",
    "        cat_true_frames = true_frames_s[cat_events.index]\n",
    "        \n",
    "        cat_acc = dict()\n",
    "        cat_acc[\"total\"] = len(cat_events)\n",
    "        cat_acc[\"mean_diff\"] = (cat_events[\"frame\"] - cat_true_frames).abs().mean()\n",
    "        cat_acc[\"exact\"] = (cat_events[\"frame\"] == cat_true_frames).astype(int).sum()\n",
    "        cat_acc[\"within_5\"] = ((cat_events[\"frame\"] - cat_true_frames).abs() <= 5).astype(int).sum()\n",
    "        cat_acc[\"within_25\"] = ((cat_events[\"frame\"] - cat_true_frames).abs() <= 25).astype(int).sum()\n",
    "        cat_acc[\"within_50\"] = ((cat_events[\"frame\"] - cat_true_frames).abs() <= 50).astype(int).sum()\n",
    "        cat_acc[\"valid\"] = (cat_events[\"frame\"].notna()).astype(int).sum()\n",
    "        acc_counts[cat] = cat_acc\n",
    "\n",
    "    acc_counts = pd.DataFrame(acc_counts).T\n",
    "    acc_counts.loc[\"event_start\"] = acc_counts.sum(axis=0)\n",
    "    acc_counts.at[\"event_start\", \"mean_diff\"] = (synced[\"frame\"] - true_frames_s).abs().mean()\n",
    "\n",
    "    if \"receive_frame\" in synced.columns:\n",
    "        receive_acc = dict()\n",
    "        pass_like = annotated[\"spadl_type\"].isin(config.PASS_LIKE_OPEN + config.SET_PIECE)\n",
    "        receive_acc[\"total\"] = len(annotated[(annotated[\"error_type\"] != \"false_positive\") & pass_like])\n",
    "        receive_acc[\"mean_diff\"] = (synced['receive_frame'] - true_frames_r).abs().mean()\n",
    "        receive_acc[\"exact\"] = (synced[\"receive_frame\"] == true_frames_r).astype(int).sum()\n",
    "        receive_acc[\"within_5\"] = ((synced[\"receive_frame\"] - true_frames_r).abs() <= 5).astype(int).sum()\n",
    "        receive_acc[\"within_25\"] = ((synced[\"receive_frame\"] - true_frames_r).abs() <= 25).astype(int).sum()\n",
    "        receive_acc[\"within_50\"] = ((synced[\"receive_frame\"] - true_frames_r).abs() <= 50).astype(int).sum()\n",
    "        receive_acc[\"valid\"] = (synced[\"receive_frame\"].notna()).astype(int).sum()\n",
    "        acc_counts.loc[\"event_end\"] = receive_acc\n",
    "\n",
    "        acc_counts.loc[\"total\"] = acc_counts.loc[\"event_start\"] + acc_counts.loc[\"event_end\"]\n",
    "        sum_diff_s = (synced['frame'] - true_frames_s).abs().sum()\n",
    "        sum_diff_r = (synced['receive_frame'] - true_frames_r).abs().sum()\n",
    "        acc_counts.at[\"total\", \"mean_diff\"] = (sum_diff_s + sum_diff_r) / acc_counts.at[\"total\", \"total\"]\n",
    "\n",
    "    int_cols = [\"total\", \"exact\", \"within_5\", \"within_25\", \"within_50\", \"valid\"]\n",
    "    acc_counts[int_cols] = acc_counts[int_cols].astype(int)\n",
    "    acc_rates = acc_counts.drop([\"total\", \"mean_diff\"], axis=1).div(acc_counts[\"total\"], axis=0)\n",
    "\n",
    "    return acc_counts, acc_rates"
   ]
  },
  {
   "cell_type": "code",
   "execution_count": null,
   "id": "2839b351",
   "metadata": {},
   "outputs": [
    {
     "name": "stdout",
     "output_type": "stream",
     "text": [
      "\n",
      "8qhuektrx8cmkxs11lxsdd4pg\n"
     ]
    },
    {
     "name": "stderr",
     "output_type": "stream",
     "text": [
      "Syncing major events in period 1: 100%|██████████| 672/672 [00:20<00:00, 33.19it/s]\n",
      "Detecting receiving events: 100%|██████████| 600/600 [00:08<00:00, 71.15it/s]\n",
      "Post-syncing minor events: 100%|██████████| 88/88 [00:01<00:00, 47.47it/s]\n"
     ]
    },
    {
     "name": "stdout",
     "output_type": "stream",
     "text": [
      "\n",
      "8t53c07vfe5vmg9jm0w7pq2vo\n"
     ]
    },
    {
     "name": "stderr",
     "output_type": "stream",
     "text": [
      "Syncing major events in period 1: 100%|██████████| 543/543 [00:15<00:00, 35.52it/s]\n",
      "Detecting receiving events: 100%|██████████| 486/486 [00:06<00:00, 73.16it/s]\n",
      "Post-syncing minor events: 100%|██████████| 94/94 [00:02<00:00, 36.13it/s]\n"
     ]
    },
    {
     "name": "stdout",
     "output_type": "stream",
     "text": [
      "\n",
      "9gewka7f25bz12mqrfm7ygjro\n"
     ]
    },
    {
     "name": "stderr",
     "output_type": "stream",
     "text": [
      "Syncing major events in period 1: 100%|██████████| 657/657 [00:20<00:00, 32.66it/s]\n",
      "Detecting receiving events: 100%|██████████| 599/599 [00:08<00:00, 71.43it/s]\n",
      "Post-syncing minor events: 100%|██████████| 77/77 [00:01<00:00, 44.64it/s]\n"
     ]
    }
   ],
   "source": [
    "for game_id in game_ids:\n",
    "    print()\n",
    "    print(game_id)\n",
    "    \n",
    "    input_events: pd.DataFrame = data_dict[game_id][\"events\"]\n",
    "    input_traces: pd.DataFrame = data_dict[game_id][\"traces\"]\n",
    "    annotated: pd.DataFrame = data_dict[game_id][\"annotated_events\"]\n",
    "\n",
    "    input_events = annotated.loc[annotated[\"error_type\"] != \"false_positive\", input_events.columns].copy()\n",
    "    input_events.reset_index(drop=True, inplace=True)\n",
    "\n",
    "    syncer = elastic.ELASTIC(input_events, input_traces)\n",
    "    syncer.run()\n",
    "\n",
    "    data_dict[game_id][\"synced_events\"] = syncer.events"
   ]
  },
  {
   "cell_type": "code",
   "execution_count": 14,
   "id": "a3d064f3",
   "metadata": {},
   "outputs": [
    {
     "data": {
      "application/vnd.microsoft.datawrangler.viewer.v0+json": {
       "columns": [
        {
         "name": "index",
         "rawType": "object",
         "type": "string"
        },
        {
         "name": "total",
         "rawType": "int64",
         "type": "integer"
        },
        {
         "name": "mean_diff",
         "rawType": "float64",
         "type": "float"
        },
        {
         "name": "exact",
         "rawType": "int64",
         "type": "integer"
        },
        {
         "name": "within_5",
         "rawType": "int64",
         "type": "integer"
        },
        {
         "name": "within_25",
         "rawType": "int64",
         "type": "integer"
        },
        {
         "name": "within_50",
         "rawType": "int64",
         "type": "integer"
        },
        {
         "name": "valid",
         "rawType": "int64",
         "type": "integer"
        }
       ],
       "ref": "a11b7021-8568-4364-b63d-fa5fe029a7e1",
       "rows": [
        [
         "pass_like",
         "1590",
         "0.5665181413112667",
         "1519",
         "1546",
         "1561",
         "1566",
         "1571"
        ],
        [
         "set_piece",
         "117",
         "0.12280701754385964",
         "108",
         "113",
         "114",
         "114",
         "114"
        ],
        [
         "incoming",
         "168",
         "6.662650602409639",
         "144",
         "147",
         "151",
         "157",
         "166"
        ],
        [
         "minor",
         "259",
         "11.75",
         "115",
         "174",
         "201",
         "233",
         "248"
        ],
        [
         "event_start",
         "2134",
         "2.345878989995236",
         "1886",
         "1980",
         "2027",
         "2070",
         "2099"
        ],
        [
         "event_end",
         "1707",
         "1.605952380952381",
         "1579",
         "1623",
         "1645",
         "1661",
         "1680"
        ],
        [
         "total",
         "3841",
         "1.9843790679510545",
         "3465",
         "3603",
         "3672",
         "3731",
         "3779"
        ]
       ],
       "shape": {
        "columns": 7,
        "rows": 7
       }
      },
      "text/html": [
       "<div>\n",
       "<style scoped>\n",
       "    .dataframe tbody tr th:only-of-type {\n",
       "        vertical-align: middle;\n",
       "    }\n",
       "\n",
       "    .dataframe tbody tr th {\n",
       "        vertical-align: top;\n",
       "    }\n",
       "\n",
       "    .dataframe thead th {\n",
       "        text-align: right;\n",
       "    }\n",
       "</style>\n",
       "<table border=\"1\" class=\"dataframe\">\n",
       "  <thead>\n",
       "    <tr style=\"text-align: right;\">\n",
       "      <th></th>\n",
       "      <th>total</th>\n",
       "      <th>mean_diff</th>\n",
       "      <th>exact</th>\n",
       "      <th>within_5</th>\n",
       "      <th>within_25</th>\n",
       "      <th>within_50</th>\n",
       "      <th>valid</th>\n",
       "    </tr>\n",
       "  </thead>\n",
       "  <tbody>\n",
       "    <tr>\n",
       "      <th>pass_like</th>\n",
       "      <td>1590</td>\n",
       "      <td>0.566518</td>\n",
       "      <td>1519</td>\n",
       "      <td>1546</td>\n",
       "      <td>1561</td>\n",
       "      <td>1566</td>\n",
       "      <td>1571</td>\n",
       "    </tr>\n",
       "    <tr>\n",
       "      <th>set_piece</th>\n",
       "      <td>117</td>\n",
       "      <td>0.122807</td>\n",
       "      <td>108</td>\n",
       "      <td>113</td>\n",
       "      <td>114</td>\n",
       "      <td>114</td>\n",
       "      <td>114</td>\n",
       "    </tr>\n",
       "    <tr>\n",
       "      <th>incoming</th>\n",
       "      <td>168</td>\n",
       "      <td>6.662651</td>\n",
       "      <td>144</td>\n",
       "      <td>147</td>\n",
       "      <td>151</td>\n",
       "      <td>157</td>\n",
       "      <td>166</td>\n",
       "    </tr>\n",
       "    <tr>\n",
       "      <th>minor</th>\n",
       "      <td>259</td>\n",
       "      <td>11.750000</td>\n",
       "      <td>115</td>\n",
       "      <td>174</td>\n",
       "      <td>201</td>\n",
       "      <td>233</td>\n",
       "      <td>248</td>\n",
       "    </tr>\n",
       "    <tr>\n",
       "      <th>event_start</th>\n",
       "      <td>2134</td>\n",
       "      <td>2.345879</td>\n",
       "      <td>1886</td>\n",
       "      <td>1980</td>\n",
       "      <td>2027</td>\n",
       "      <td>2070</td>\n",
       "      <td>2099</td>\n",
       "    </tr>\n",
       "    <tr>\n",
       "      <th>event_end</th>\n",
       "      <td>1707</td>\n",
       "      <td>1.605952</td>\n",
       "      <td>1579</td>\n",
       "      <td>1623</td>\n",
       "      <td>1645</td>\n",
       "      <td>1661</td>\n",
       "      <td>1680</td>\n",
       "    </tr>\n",
       "    <tr>\n",
       "      <th>total</th>\n",
       "      <td>3841</td>\n",
       "      <td>1.984379</td>\n",
       "      <td>3465</td>\n",
       "      <td>3603</td>\n",
       "      <td>3672</td>\n",
       "      <td>3731</td>\n",
       "      <td>3779</td>\n",
       "    </tr>\n",
       "  </tbody>\n",
       "</table>\n",
       "</div>"
      ],
      "text/plain": [
       "             total  mean_diff  exact  within_5  within_25  within_50  valid\n",
       "pass_like     1590   0.566518   1519      1546       1561       1566   1571\n",
       "set_piece      117   0.122807    108       113        114        114    114\n",
       "incoming       168   6.662651    144       147        151        157    166\n",
       "minor          259  11.750000    115       174        201        233    248\n",
       "event_start   2134   2.345879   1886      1980       2027       2070   2099\n",
       "event_end     1707   1.605952   1579      1623       1645       1661   1680\n",
       "total         3841   1.984379   3465      3603       3672       3731   3779"
      ]
     },
     "metadata": {},
     "output_type": "display_data"
    },
    {
     "data": {
      "application/vnd.microsoft.datawrangler.viewer.v0+json": {
       "columns": [
        {
         "name": "index",
         "rawType": "object",
         "type": "string"
        },
        {
         "name": "exact",
         "rawType": "float64",
         "type": "float"
        },
        {
         "name": "within_5",
         "rawType": "float64",
         "type": "float"
        },
        {
         "name": "within_25",
         "rawType": "float64",
         "type": "float"
        },
        {
         "name": "within_50",
         "rawType": "float64",
         "type": "float"
        },
        {
         "name": "valid",
         "rawType": "float64",
         "type": "float"
        }
       ],
       "ref": "4d7b2705-368e-4b0f-af01-8077cb3a2ebe",
       "rows": [
        [
         "pass_like",
         "0.9553459119496855",
         "0.9723270440251572",
         "0.9817610062893082",
         "0.9849056603773585",
         "0.9880503144654088"
        ],
        [
         "set_piece",
         "0.9230769230769231",
         "0.9658119658119658",
         "0.9743589743589743",
         "0.9743589743589743",
         "0.9743589743589743"
        ],
        [
         "incoming",
         "0.8571428571428571",
         "0.875",
         "0.8988095238095238",
         "0.9345238095238095",
         "0.9880952380952381"
        ],
        [
         "minor",
         "0.444015444015444",
         "0.6718146718146718",
         "0.7760617760617761",
         "0.8996138996138996",
         "0.9575289575289575"
        ],
        [
         "event_start",
         "0.8837863167760075",
         "0.9278350515463918",
         "0.9498594189315839",
         "0.9700093720712277",
         "0.9835988753514526"
        ],
        [
         "event_end",
         "0.9250146455770357",
         "0.9507908611599297",
         "0.9636789689513767",
         "0.9730521382542472",
         "0.984182776801406"
        ],
        [
         "total",
         "0.9021088258266077",
         "0.9380369695391825",
         "0.9560010413954699",
         "0.9713616245769331",
         "0.9838583702160896"
        ]
       ],
       "shape": {
        "columns": 5,
        "rows": 7
       }
      },
      "text/html": [
       "<div>\n",
       "<style scoped>\n",
       "    .dataframe tbody tr th:only-of-type {\n",
       "        vertical-align: middle;\n",
       "    }\n",
       "\n",
       "    .dataframe tbody tr th {\n",
       "        vertical-align: top;\n",
       "    }\n",
       "\n",
       "    .dataframe thead th {\n",
       "        text-align: right;\n",
       "    }\n",
       "</style>\n",
       "<table border=\"1\" class=\"dataframe\">\n",
       "  <thead>\n",
       "    <tr style=\"text-align: right;\">\n",
       "      <th></th>\n",
       "      <th>exact</th>\n",
       "      <th>within_5</th>\n",
       "      <th>within_25</th>\n",
       "      <th>within_50</th>\n",
       "      <th>valid</th>\n",
       "    </tr>\n",
       "  </thead>\n",
       "  <tbody>\n",
       "    <tr>\n",
       "      <th>pass_like</th>\n",
       "      <td>0.955346</td>\n",
       "      <td>0.972327</td>\n",
       "      <td>0.981761</td>\n",
       "      <td>0.984906</td>\n",
       "      <td>0.988050</td>\n",
       "    </tr>\n",
       "    <tr>\n",
       "      <th>set_piece</th>\n",
       "      <td>0.923077</td>\n",
       "      <td>0.965812</td>\n",
       "      <td>0.974359</td>\n",
       "      <td>0.974359</td>\n",
       "      <td>0.974359</td>\n",
       "    </tr>\n",
       "    <tr>\n",
       "      <th>incoming</th>\n",
       "      <td>0.857143</td>\n",
       "      <td>0.875000</td>\n",
       "      <td>0.898810</td>\n",
       "      <td>0.934524</td>\n",
       "      <td>0.988095</td>\n",
       "    </tr>\n",
       "    <tr>\n",
       "      <th>minor</th>\n",
       "      <td>0.444015</td>\n",
       "      <td>0.671815</td>\n",
       "      <td>0.776062</td>\n",
       "      <td>0.899614</td>\n",
       "      <td>0.957529</td>\n",
       "    </tr>\n",
       "    <tr>\n",
       "      <th>event_start</th>\n",
       "      <td>0.883786</td>\n",
       "      <td>0.927835</td>\n",
       "      <td>0.949859</td>\n",
       "      <td>0.970009</td>\n",
       "      <td>0.983599</td>\n",
       "    </tr>\n",
       "    <tr>\n",
       "      <th>event_end</th>\n",
       "      <td>0.925015</td>\n",
       "      <td>0.950791</td>\n",
       "      <td>0.963679</td>\n",
       "      <td>0.973052</td>\n",
       "      <td>0.984183</td>\n",
       "    </tr>\n",
       "    <tr>\n",
       "      <th>total</th>\n",
       "      <td>0.902109</td>\n",
       "      <td>0.938037</td>\n",
       "      <td>0.956001</td>\n",
       "      <td>0.971362</td>\n",
       "      <td>0.983858</td>\n",
       "    </tr>\n",
       "  </tbody>\n",
       "</table>\n",
       "</div>"
      ],
      "text/plain": [
       "                exact  within_5  within_25  within_50     valid\n",
       "pass_like    0.955346  0.972327   0.981761   0.984906  0.988050\n",
       "set_piece    0.923077  0.965812   0.974359   0.974359  0.974359\n",
       "incoming     0.857143  0.875000   0.898810   0.934524  0.988095\n",
       "minor        0.444015  0.671815   0.776062   0.899614  0.957529\n",
       "event_start  0.883786  0.927835   0.949859   0.970009  0.983599\n",
       "event_end    0.925015  0.950791   0.963679   0.973052  0.984183\n",
       "total        0.902109  0.938037   0.956001   0.971362  0.983858"
      ]
     },
     "metadata": {},
     "output_type": "display_data"
    }
   ],
   "source": [
    "synced = []\n",
    "annotated = []\n",
    "\n",
    "for game_id, data in data_dict.items():\n",
    "    game_events = data[\"synced_events\"]\n",
    "    game_events[\"game_id\"] = game_id\n",
    "    synced.append(game_events)\n",
    "    annotated.append(data[\"corrected_events\"])\n",
    "\n",
    "synced = pd.concat(synced, ignore_index=True)\n",
    "annotated = pd.concat(annotated, ignore_index=True)\n",
    "\n",
    "acc_counts, acc_rates = calc_accuracy(synced, annotated)\n",
    "display(acc_counts)\n",
    "display(acc_rates)"
   ]
  },
  {
   "cell_type": "markdown",
   "id": "cc42c2c0",
   "metadata": {},
   "source": [
    "### Calculating the accuracy of ETSY"
   ]
  },
  {
   "cell_type": "code",
   "execution_count": 89,
   "id": "4ef5c4ba",
   "metadata": {},
   "outputs": [
    {
     "name": "stdout",
     "output_type": "stream",
     "text": [
      "\n",
      "8qhuektrx8cmkxs11lxsdd4pg\n"
     ]
    },
    {
     "name": "stderr",
     "output_type": "stream",
     "text": [
      "Syncing events in period 1: 100%|██████████| 760/760 [00:23<00:00, 31.83it/s]\n"
     ]
    },
    {
     "name": "stdout",
     "output_type": "stream",
     "text": [
      "\n",
      "8t53c07vfe5vmg9jm0w7pq2vo\n"
     ]
    },
    {
     "name": "stderr",
     "output_type": "stream",
     "text": [
      "Syncing events in period 1: 100%|██████████| 637/637 [00:19<00:00, 33.11it/s]\n"
     ]
    },
    {
     "name": "stdout",
     "output_type": "stream",
     "text": [
      "\n",
      "9gewka7f25bz12mqrfm7ygjro\n"
     ]
    },
    {
     "name": "stderr",
     "output_type": "stream",
     "text": [
      "Syncing events in period 1: 100%|██████████| 734/734 [00:23<00:00, 31.90it/s]\n"
     ]
    }
   ],
   "source": [
    "for game_id in game_ids:\n",
    "    print()\n",
    "    print(game_id)\n",
    "    \n",
    "    input_events: pd.DataFrame = data_dict[game_id][\"events\"]\n",
    "    input_traces: pd.DataFrame = data_dict[game_id][\"traces\"]\n",
    "    annotated: pd.DataFrame = data_dict[game_id][\"annotated_events\"]\n",
    "\n",
    "    input_events = annotated.loc[annotated[\"error_type\"] != \"false_positive\", input_events.columns].copy()\n",
    "    input_events.reset_index(drop=True, inplace=True)\n",
    "\n",
    "    syncer = etsy.ETSY(input_events, input_traces)\n",
    "    syncer.run()\n",
    "\n",
    "    data_dict[game_id][\"synced_events\"] = syncer.events"
   ]
  },
  {
   "cell_type": "code",
   "execution_count": 90,
   "id": "d7294867",
   "metadata": {},
   "outputs": [
    {
     "data": {
      "application/vnd.microsoft.datawrangler.viewer.v0+json": {
       "columns": [
        {
         "name": "index",
         "rawType": "object",
         "type": "string"
        },
        {
         "name": "total",
         "rawType": "int64",
         "type": "integer"
        },
        {
         "name": "mean_diff",
         "rawType": "float64",
         "type": "float"
        },
        {
         "name": "exact",
         "rawType": "int64",
         "type": "integer"
        },
        {
         "name": "within_5",
         "rawType": "int64",
         "type": "integer"
        },
        {
         "name": "within_25",
         "rawType": "int64",
         "type": "integer"
        },
        {
         "name": "within_50",
         "rawType": "int64",
         "type": "integer"
        },
        {
         "name": "valid",
         "rawType": "int64",
         "type": "integer"
        }
       ],
       "ref": "285460eb-4dbd-4952-9e97-a690f2baa370",
       "rows": [
        [
         "pass_like",
         "1590",
         "14.053333333333333",
         "348",
         "995",
         "1242",
         "1375",
         "1500"
        ],
        [
         "set_piece",
         "117",
         "11.974137931034482",
         "68",
         "103",
         "107",
         "109",
         "116"
        ],
        [
         "incoming",
         "168",
         "24.18125",
         "9",
         "64",
         "107",
         "133",
         "160"
        ],
        [
         "minor",
         "259",
         "18.382022471910112",
         "26",
         "82",
         "139",
         "162",
         "178"
        ],
        [
         "event_start",
         "2134",
         "15.15353121801433",
         "451",
         "1244",
         "1595",
         "1779",
         "1954"
        ]
       ],
       "shape": {
        "columns": 7,
        "rows": 5
       }
      },
      "text/html": [
       "<div>\n",
       "<style scoped>\n",
       "    .dataframe tbody tr th:only-of-type {\n",
       "        vertical-align: middle;\n",
       "    }\n",
       "\n",
       "    .dataframe tbody tr th {\n",
       "        vertical-align: top;\n",
       "    }\n",
       "\n",
       "    .dataframe thead th {\n",
       "        text-align: right;\n",
       "    }\n",
       "</style>\n",
       "<table border=\"1\" class=\"dataframe\">\n",
       "  <thead>\n",
       "    <tr style=\"text-align: right;\">\n",
       "      <th></th>\n",
       "      <th>total</th>\n",
       "      <th>mean_diff</th>\n",
       "      <th>exact</th>\n",
       "      <th>within_5</th>\n",
       "      <th>within_25</th>\n",
       "      <th>within_50</th>\n",
       "      <th>valid</th>\n",
       "    </tr>\n",
       "  </thead>\n",
       "  <tbody>\n",
       "    <tr>\n",
       "      <th>pass_like</th>\n",
       "      <td>1590</td>\n",
       "      <td>14.053333</td>\n",
       "      <td>348</td>\n",
       "      <td>995</td>\n",
       "      <td>1242</td>\n",
       "      <td>1375</td>\n",
       "      <td>1500</td>\n",
       "    </tr>\n",
       "    <tr>\n",
       "      <th>set_piece</th>\n",
       "      <td>117</td>\n",
       "      <td>11.974138</td>\n",
       "      <td>68</td>\n",
       "      <td>103</td>\n",
       "      <td>107</td>\n",
       "      <td>109</td>\n",
       "      <td>116</td>\n",
       "    </tr>\n",
       "    <tr>\n",
       "      <th>incoming</th>\n",
       "      <td>168</td>\n",
       "      <td>24.181250</td>\n",
       "      <td>9</td>\n",
       "      <td>64</td>\n",
       "      <td>107</td>\n",
       "      <td>133</td>\n",
       "      <td>160</td>\n",
       "    </tr>\n",
       "    <tr>\n",
       "      <th>minor</th>\n",
       "      <td>259</td>\n",
       "      <td>18.382022</td>\n",
       "      <td>26</td>\n",
       "      <td>82</td>\n",
       "      <td>139</td>\n",
       "      <td>162</td>\n",
       "      <td>178</td>\n",
       "    </tr>\n",
       "    <tr>\n",
       "      <th>event_start</th>\n",
       "      <td>2134</td>\n",
       "      <td>15.153531</td>\n",
       "      <td>451</td>\n",
       "      <td>1244</td>\n",
       "      <td>1595</td>\n",
       "      <td>1779</td>\n",
       "      <td>1954</td>\n",
       "    </tr>\n",
       "  </tbody>\n",
       "</table>\n",
       "</div>"
      ],
      "text/plain": [
       "             total  mean_diff  exact  within_5  within_25  within_50  valid\n",
       "pass_like     1590  14.053333    348       995       1242       1375   1500\n",
       "set_piece      117  11.974138     68       103        107        109    116\n",
       "incoming       168  24.181250      9        64        107        133    160\n",
       "minor          259  18.382022     26        82        139        162    178\n",
       "event_start   2134  15.153531    451      1244       1595       1779   1954"
      ]
     },
     "metadata": {},
     "output_type": "display_data"
    },
    {
     "data": {
      "application/vnd.microsoft.datawrangler.viewer.v0+json": {
       "columns": [
        {
         "name": "index",
         "rawType": "object",
         "type": "string"
        },
        {
         "name": "exact",
         "rawType": "float64",
         "type": "float"
        },
        {
         "name": "within_5",
         "rawType": "float64",
         "type": "float"
        },
        {
         "name": "within_25",
         "rawType": "float64",
         "type": "float"
        },
        {
         "name": "within_50",
         "rawType": "float64",
         "type": "float"
        },
        {
         "name": "valid",
         "rawType": "float64",
         "type": "float"
        }
       ],
       "ref": "c4e83c02-b9c1-45ba-a67e-ee9c30caddb4",
       "rows": [
        [
         "pass_like",
         "0.2188679245283019",
         "0.6257861635220126",
         "0.7811320754716982",
         "0.8647798742138365",
         "0.9433962264150944"
        ],
        [
         "set_piece",
         "0.5811965811965812",
         "0.8803418803418803",
         "0.9145299145299145",
         "0.9316239316239316",
         "0.9914529914529915"
        ],
        [
         "incoming",
         "0.05357142857142857",
         "0.38095238095238093",
         "0.6369047619047619",
         "0.7916666666666666",
         "0.9523809523809523"
        ],
        [
         "minor",
         "0.10038610038610038",
         "0.3166023166023166",
         "0.5366795366795367",
         "0.6254826254826255",
         "0.6872586872586872"
        ],
        [
         "event_start",
         "0.211340206185567",
         "0.5829428303655108",
         "0.7474226804123711",
         "0.8336457357075914",
         "0.915651358950328"
        ]
       ],
       "shape": {
        "columns": 5,
        "rows": 5
       }
      },
      "text/html": [
       "<div>\n",
       "<style scoped>\n",
       "    .dataframe tbody tr th:only-of-type {\n",
       "        vertical-align: middle;\n",
       "    }\n",
       "\n",
       "    .dataframe tbody tr th {\n",
       "        vertical-align: top;\n",
       "    }\n",
       "\n",
       "    .dataframe thead th {\n",
       "        text-align: right;\n",
       "    }\n",
       "</style>\n",
       "<table border=\"1\" class=\"dataframe\">\n",
       "  <thead>\n",
       "    <tr style=\"text-align: right;\">\n",
       "      <th></th>\n",
       "      <th>exact</th>\n",
       "      <th>within_5</th>\n",
       "      <th>within_25</th>\n",
       "      <th>within_50</th>\n",
       "      <th>valid</th>\n",
       "    </tr>\n",
       "  </thead>\n",
       "  <tbody>\n",
       "    <tr>\n",
       "      <th>pass_like</th>\n",
       "      <td>0.218868</td>\n",
       "      <td>0.625786</td>\n",
       "      <td>0.781132</td>\n",
       "      <td>0.864780</td>\n",
       "      <td>0.943396</td>\n",
       "    </tr>\n",
       "    <tr>\n",
       "      <th>set_piece</th>\n",
       "      <td>0.581197</td>\n",
       "      <td>0.880342</td>\n",
       "      <td>0.914530</td>\n",
       "      <td>0.931624</td>\n",
       "      <td>0.991453</td>\n",
       "    </tr>\n",
       "    <tr>\n",
       "      <th>incoming</th>\n",
       "      <td>0.053571</td>\n",
       "      <td>0.380952</td>\n",
       "      <td>0.636905</td>\n",
       "      <td>0.791667</td>\n",
       "      <td>0.952381</td>\n",
       "    </tr>\n",
       "    <tr>\n",
       "      <th>minor</th>\n",
       "      <td>0.100386</td>\n",
       "      <td>0.316602</td>\n",
       "      <td>0.536680</td>\n",
       "      <td>0.625483</td>\n",
       "      <td>0.687259</td>\n",
       "    </tr>\n",
       "    <tr>\n",
       "      <th>event_start</th>\n",
       "      <td>0.211340</td>\n",
       "      <td>0.582943</td>\n",
       "      <td>0.747423</td>\n",
       "      <td>0.833646</td>\n",
       "      <td>0.915651</td>\n",
       "    </tr>\n",
       "  </tbody>\n",
       "</table>\n",
       "</div>"
      ],
      "text/plain": [
       "                exact  within_5  within_25  within_50     valid\n",
       "pass_like    0.218868  0.625786   0.781132   0.864780  0.943396\n",
       "set_piece    0.581197  0.880342   0.914530   0.931624  0.991453\n",
       "incoming     0.053571  0.380952   0.636905   0.791667  0.952381\n",
       "minor        0.100386  0.316602   0.536680   0.625483  0.687259\n",
       "event_start  0.211340  0.582943   0.747423   0.833646  0.915651"
      ]
     },
     "metadata": {},
     "output_type": "display_data"
    }
   ],
   "source": [
    "synced = []\n",
    "annotated = []\n",
    "\n",
    "for game_id, data in data_dict.items():\n",
    "    game_events = data[\"synced_events\"]\n",
    "    game_events[\"game_id\"] = game_id\n",
    "    synced.append(game_events)\n",
    "    annotated.append(data[\"corrected_events\"])\n",
    "\n",
    "synced = pd.concat(synced, ignore_index=True)\n",
    "annotated = pd.concat(annotated, ignore_index=True)\n",
    "\n",
    "acc_counts, acc_rates = calc_accuracy(synced, annotated)\n",
    "display(acc_counts)\n",
    "display(acc_rates)"
   ]
  },
  {
   "cell_type": "markdown",
   "id": "7516bb55",
   "metadata": {},
   "source": [
    "### Ablation study about the synchronization order"
   ]
  },
  {
   "cell_type": "markdown",
   "id": "c905f619",
   "metadata": {},
   "source": [
    "##### (1) Synchronizing ALL events before detecting receptions"
   ]
  },
  {
   "cell_type": "code",
   "execution_count": null,
   "id": "d4dce58a",
   "metadata": {},
   "outputs": [
    {
     "name": "stdout",
     "output_type": "stream",
     "text": [
      "\n",
      "8qhuektrx8cmkxs11lxsdd4pg\n"
     ]
    },
    {
     "name": "stderr",
     "output_type": "stream",
     "text": [
      "Syncing major events in period 1: 100%|██████████| 760/760 [00:23<00:00, 32.76it/s]\n",
      "Detecting receiving events: 100%|██████████| 588/588 [00:08<00:00, 73.07it/s]\n"
     ]
    },
    {
     "name": "stdout",
     "output_type": "stream",
     "text": [
      "\n",
      "8t53c07vfe5vmg9jm0w7pq2vo\n"
     ]
    },
    {
     "name": "stderr",
     "output_type": "stream",
     "text": [
      "Syncing major events in period 1: 100%|██████████| 637/637 [00:19<00:00, 32.20it/s]\n",
      "Detecting receiving events: 100%|██████████| 476/476 [00:06<00:00, 72.66it/s]\n"
     ]
    },
    {
     "name": "stdout",
     "output_type": "stream",
     "text": [
      "\n",
      "9gewka7f25bz12mqrfm7ygjro\n"
     ]
    },
    {
     "name": "stderr",
     "output_type": "stream",
     "text": [
      "Syncing major events in period 1: 100%|██████████| 734/734 [00:21<00:00, 34.68it/s] \n",
      "Detecting receiving events: 100%|██████████| 540/540 [00:07<00:00, 72.55it/s]\n"
     ]
    }
   ],
   "source": [
    "args = {\"fps\": 25, \"post_sync_types\": []}\n",
    "\n",
    "for game_id in game_ids:\n",
    "    print()\n",
    "    print(game_id)\n",
    "    \n",
    "    input_events: pd.DataFrame = data_dict[game_id][\"events\"]\n",
    "    input_traces: pd.DataFrame = data_dict[game_id][\"traces\"]\n",
    "    annotated: pd.DataFrame = data_dict[game_id][\"annotated_events\"]\n",
    "\n",
    "    input_events = annotated.loc[annotated[\"error_type\"] != \"false_positive\", input_events.columns].copy()\n",
    "    input_events.reset_index(drop=True, inplace=True)\n",
    "\n",
    "    syncer = elastic.ELASTIC(input_events, input_traces, args)\n",
    "    syncer.run()\n",
    "\n",
    "    data_dict[game_id][\"synced_events\"] = syncer.events"
   ]
  },
  {
   "cell_type": "code",
   "execution_count": 24,
   "id": "b4f4e524",
   "metadata": {},
   "outputs": [
    {
     "data": {
      "application/vnd.microsoft.datawrangler.viewer.v0+json": {
       "columns": [
        {
         "name": "index",
         "rawType": "object",
         "type": "string"
        },
        {
         "name": "total",
         "rawType": "int64",
         "type": "integer"
        },
        {
         "name": "mean_diff",
         "rawType": "float64",
         "type": "float"
        },
        {
         "name": "exact",
         "rawType": "int64",
         "type": "integer"
        },
        {
         "name": "within_5",
         "rawType": "int64",
         "type": "integer"
        },
        {
         "name": "within_25",
         "rawType": "int64",
         "type": "integer"
        },
        {
         "name": "within_50",
         "rawType": "int64",
         "type": "integer"
        },
        {
         "name": "valid",
         "rawType": "int64",
         "type": "integer"
        }
       ],
       "ref": "c29adacd-0840-4a06-9042-598d49c3ac67",
       "rows": [
        [
         "pass_like",
         "1590",
         "0.5699933020763563",
         "1434",
         "1469",
         "1484",
         "1488",
         "1493"
        ],
        [
         "set_piece",
         "117",
         "0.12612612612612611",
         "105",
         "110",
         "111",
         "111",
         "111"
        ],
        [
         "incoming",
         "168",
         "7.455696202531645",
         "133",
         "137",
         "140",
         "149",
         "158"
        ],
        [
         "minor",
         "259",
         "48.908366533864545",
         "82",
         "142",
         "177",
         "223",
         "251"
        ],
        [
         "event_start",
         "2134",
         "7.113263785394933",
         "1754",
         "1858",
         "1912",
         "1971",
         "2013"
        ],
        [
         "event_end",
         "1707",
         "1.6785490931832394",
         "1488",
         "1543",
         "1565",
         "1580",
         "1599"
        ],
        [
         "total",
         "3841",
         "4.426711793803697",
         "3242",
         "3401",
         "3477",
         "3551",
         "3612"
        ]
       ],
       "shape": {
        "columns": 7,
        "rows": 7
       }
      },
      "text/html": [
       "<div>\n",
       "<style scoped>\n",
       "    .dataframe tbody tr th:only-of-type {\n",
       "        vertical-align: middle;\n",
       "    }\n",
       "\n",
       "    .dataframe tbody tr th {\n",
       "        vertical-align: top;\n",
       "    }\n",
       "\n",
       "    .dataframe thead th {\n",
       "        text-align: right;\n",
       "    }\n",
       "</style>\n",
       "<table border=\"1\" class=\"dataframe\">\n",
       "  <thead>\n",
       "    <tr style=\"text-align: right;\">\n",
       "      <th></th>\n",
       "      <th>total</th>\n",
       "      <th>mean_diff</th>\n",
       "      <th>exact</th>\n",
       "      <th>within_5</th>\n",
       "      <th>within_25</th>\n",
       "      <th>within_50</th>\n",
       "      <th>valid</th>\n",
       "    </tr>\n",
       "  </thead>\n",
       "  <tbody>\n",
       "    <tr>\n",
       "      <th>pass_like</th>\n",
       "      <td>1590</td>\n",
       "      <td>0.569993</td>\n",
       "      <td>1434</td>\n",
       "      <td>1469</td>\n",
       "      <td>1484</td>\n",
       "      <td>1488</td>\n",
       "      <td>1493</td>\n",
       "    </tr>\n",
       "    <tr>\n",
       "      <th>set_piece</th>\n",
       "      <td>117</td>\n",
       "      <td>0.126126</td>\n",
       "      <td>105</td>\n",
       "      <td>110</td>\n",
       "      <td>111</td>\n",
       "      <td>111</td>\n",
       "      <td>111</td>\n",
       "    </tr>\n",
       "    <tr>\n",
       "      <th>incoming</th>\n",
       "      <td>168</td>\n",
       "      <td>7.455696</td>\n",
       "      <td>133</td>\n",
       "      <td>137</td>\n",
       "      <td>140</td>\n",
       "      <td>149</td>\n",
       "      <td>158</td>\n",
       "    </tr>\n",
       "    <tr>\n",
       "      <th>minor</th>\n",
       "      <td>259</td>\n",
       "      <td>48.908367</td>\n",
       "      <td>82</td>\n",
       "      <td>142</td>\n",
       "      <td>177</td>\n",
       "      <td>223</td>\n",
       "      <td>251</td>\n",
       "    </tr>\n",
       "    <tr>\n",
       "      <th>event_start</th>\n",
       "      <td>2134</td>\n",
       "      <td>7.113264</td>\n",
       "      <td>1754</td>\n",
       "      <td>1858</td>\n",
       "      <td>1912</td>\n",
       "      <td>1971</td>\n",
       "      <td>2013</td>\n",
       "    </tr>\n",
       "    <tr>\n",
       "      <th>event_end</th>\n",
       "      <td>1707</td>\n",
       "      <td>1.678549</td>\n",
       "      <td>1488</td>\n",
       "      <td>1543</td>\n",
       "      <td>1565</td>\n",
       "      <td>1580</td>\n",
       "      <td>1599</td>\n",
       "    </tr>\n",
       "    <tr>\n",
       "      <th>total</th>\n",
       "      <td>3841</td>\n",
       "      <td>4.426712</td>\n",
       "      <td>3242</td>\n",
       "      <td>3401</td>\n",
       "      <td>3477</td>\n",
       "      <td>3551</td>\n",
       "      <td>3612</td>\n",
       "    </tr>\n",
       "  </tbody>\n",
       "</table>\n",
       "</div>"
      ],
      "text/plain": [
       "             total  mean_diff  exact  within_5  within_25  within_50  valid\n",
       "pass_like     1590   0.569993   1434      1469       1484       1488   1493\n",
       "set_piece      117   0.126126    105       110        111        111    111\n",
       "incoming       168   7.455696    133       137        140        149    158\n",
       "minor          259  48.908367     82       142        177        223    251\n",
       "event_start   2134   7.113264   1754      1858       1912       1971   2013\n",
       "event_end     1707   1.678549   1488      1543       1565       1580   1599\n",
       "total         3841   4.426712   3242      3401       3477       3551   3612"
      ]
     },
     "metadata": {},
     "output_type": "display_data"
    },
    {
     "data": {
      "application/vnd.microsoft.datawrangler.viewer.v0+json": {
       "columns": [
        {
         "name": "index",
         "rawType": "object",
         "type": "string"
        },
        {
         "name": "exact",
         "rawType": "float64",
         "type": "float"
        },
        {
         "name": "within_5",
         "rawType": "float64",
         "type": "float"
        },
        {
         "name": "within_25",
         "rawType": "float64",
         "type": "float"
        },
        {
         "name": "within_50",
         "rawType": "float64",
         "type": "float"
        },
        {
         "name": "valid",
         "rawType": "float64",
         "type": "float"
        }
       ],
       "ref": "df41d88b-c082-4fdc-90df-e836b4aefa23",
       "rows": [
        [
         "pass_like",
         "0.9018867924528302",
         "0.9238993710691824",
         "0.9333333333333333",
         "0.9358490566037736",
         "0.9389937106918239"
        ],
        [
         "set_piece",
         "0.8974358974358975",
         "0.9401709401709402",
         "0.9487179487179487",
         "0.9487179487179487",
         "0.9487179487179487"
        ],
        [
         "incoming",
         "0.7916666666666666",
         "0.8154761904761905",
         "0.8333333333333334",
         "0.8869047619047619",
         "0.9404761904761905"
        ],
        [
         "minor",
         "0.3166023166023166",
         "0.5482625482625483",
         "0.6833976833976834",
         "0.861003861003861",
         "0.9691119691119691"
        ],
        [
         "event_start",
         "0.8219306466729147",
         "0.8706654170571696",
         "0.8959700093720713",
         "0.9236176194939082",
         "0.9432989690721649"
        ],
        [
         "event_end",
         "0.8717047451669596",
         "0.9039250146455771",
         "0.9168131224370241",
         "0.9256004686584651",
         "0.9367311072056239"
        ],
        [
         "total",
         "0.8440510283780266",
         "0.8854464983077324",
         "0.9052330122363967",
         "0.9244988284300963",
         "0.9403801093465244"
        ]
       ],
       "shape": {
        "columns": 5,
        "rows": 7
       }
      },
      "text/html": [
       "<div>\n",
       "<style scoped>\n",
       "    .dataframe tbody tr th:only-of-type {\n",
       "        vertical-align: middle;\n",
       "    }\n",
       "\n",
       "    .dataframe tbody tr th {\n",
       "        vertical-align: top;\n",
       "    }\n",
       "\n",
       "    .dataframe thead th {\n",
       "        text-align: right;\n",
       "    }\n",
       "</style>\n",
       "<table border=\"1\" class=\"dataframe\">\n",
       "  <thead>\n",
       "    <tr style=\"text-align: right;\">\n",
       "      <th></th>\n",
       "      <th>exact</th>\n",
       "      <th>within_5</th>\n",
       "      <th>within_25</th>\n",
       "      <th>within_50</th>\n",
       "      <th>valid</th>\n",
       "    </tr>\n",
       "  </thead>\n",
       "  <tbody>\n",
       "    <tr>\n",
       "      <th>pass_like</th>\n",
       "      <td>0.901887</td>\n",
       "      <td>0.923899</td>\n",
       "      <td>0.933333</td>\n",
       "      <td>0.935849</td>\n",
       "      <td>0.938994</td>\n",
       "    </tr>\n",
       "    <tr>\n",
       "      <th>set_piece</th>\n",
       "      <td>0.897436</td>\n",
       "      <td>0.940171</td>\n",
       "      <td>0.948718</td>\n",
       "      <td>0.948718</td>\n",
       "      <td>0.948718</td>\n",
       "    </tr>\n",
       "    <tr>\n",
       "      <th>incoming</th>\n",
       "      <td>0.791667</td>\n",
       "      <td>0.815476</td>\n",
       "      <td>0.833333</td>\n",
       "      <td>0.886905</td>\n",
       "      <td>0.940476</td>\n",
       "    </tr>\n",
       "    <tr>\n",
       "      <th>minor</th>\n",
       "      <td>0.316602</td>\n",
       "      <td>0.548263</td>\n",
       "      <td>0.683398</td>\n",
       "      <td>0.861004</td>\n",
       "      <td>0.969112</td>\n",
       "    </tr>\n",
       "    <tr>\n",
       "      <th>event_start</th>\n",
       "      <td>0.821931</td>\n",
       "      <td>0.870665</td>\n",
       "      <td>0.895970</td>\n",
       "      <td>0.923618</td>\n",
       "      <td>0.943299</td>\n",
       "    </tr>\n",
       "    <tr>\n",
       "      <th>event_end</th>\n",
       "      <td>0.871705</td>\n",
       "      <td>0.903925</td>\n",
       "      <td>0.916813</td>\n",
       "      <td>0.925600</td>\n",
       "      <td>0.936731</td>\n",
       "    </tr>\n",
       "    <tr>\n",
       "      <th>total</th>\n",
       "      <td>0.844051</td>\n",
       "      <td>0.885446</td>\n",
       "      <td>0.905233</td>\n",
       "      <td>0.924499</td>\n",
       "      <td>0.940380</td>\n",
       "    </tr>\n",
       "  </tbody>\n",
       "</table>\n",
       "</div>"
      ],
      "text/plain": [
       "                exact  within_5  within_25  within_50     valid\n",
       "pass_like    0.901887  0.923899   0.933333   0.935849  0.938994\n",
       "set_piece    0.897436  0.940171   0.948718   0.948718  0.948718\n",
       "incoming     0.791667  0.815476   0.833333   0.886905  0.940476\n",
       "minor        0.316602  0.548263   0.683398   0.861004  0.969112\n",
       "event_start  0.821931  0.870665   0.895970   0.923618  0.943299\n",
       "event_end    0.871705  0.903925   0.916813   0.925600  0.936731\n",
       "total        0.844051  0.885446   0.905233   0.924499  0.940380"
      ]
     },
     "metadata": {},
     "output_type": "display_data"
    }
   ],
   "source": [
    "synced = []\n",
    "annotated = []\n",
    "\n",
    "for game_id, data in data_dict.items():\n",
    "    game_events = data[\"synced_events\"]\n",
    "    game_events[\"game_id\"] = game_id\n",
    "    synced.append(game_events)\n",
    "    annotated.append(data[\"corrected_events\"])\n",
    "\n",
    "synced = pd.concat(synced, ignore_index=True)\n",
    "annotated = pd.concat(annotated, ignore_index=True)\n",
    "\n",
    "acc_counts, acc_rates = calc_accuracy(synced, annotated)\n",
    "display(acc_counts)\n",
    "display(acc_rates)"
   ]
  },
  {
   "cell_type": "markdown",
   "id": "353b54f9",
   "metadata": {},
   "source": [
    "##### (2) Synchronizing only PASS-LIKE and SET-PIECE events before detecting receptions"
   ]
  },
  {
   "cell_type": "code",
   "execution_count": null,
   "id": "db1d3689",
   "metadata": {},
   "outputs": [
    {
     "name": "stdout",
     "output_type": "stream",
     "text": [
      "\n",
      "8qhuektrx8cmkxs11lxsdd4pg\n"
     ]
    },
    {
     "name": "stderr",
     "output_type": "stream",
     "text": [
      "Syncing major events in period 1: 100%|██████████| 607/607 [00:18<00:00, 33.57it/s]\n",
      "Detecting receiving events: 100%|██████████| 600/600 [00:08<00:00, 71.86it/s]\n",
      "Post-syncing minor events: 100%|██████████| 153/153 [00:02<00:00, 52.52it/s]\n"
     ]
    },
    {
     "name": "stdout",
     "output_type": "stream",
     "text": [
      "\n",
      "8t53c07vfe5vmg9jm0w7pq2vo\n"
     ]
    },
    {
     "name": "stderr",
     "output_type": "stream",
     "text": [
      "Syncing major events in period 1: 100%|██████████| 492/492 [00:13<00:00, 35.25it/s]\n",
      "Detecting receiving events: 100%|██████████| 488/488 [00:06<00:00, 72.74it/s]\n",
      "Post-syncing minor events: 100%|██████████| 145/145 [00:02<00:00, 56.24it/s]\n"
     ]
    },
    {
     "name": "stdout",
     "output_type": "stream",
     "text": [
      "\n",
      "9gewka7f25bz12mqrfm7ygjro\n"
     ]
    },
    {
     "name": "stderr",
     "output_type": "stream",
     "text": [
      "Syncing major events in period 1: 100%|██████████| 605/605 [00:17<00:00, 33.78it/s]\n",
      "Detecting receiving events: 100%|██████████| 600/600 [00:08<00:00, 71.03it/s]\n",
      "Post-syncing minor events: 100%|██████████| 129/129 [00:02<00:00, 50.03it/s]\n"
     ]
    }
   ],
   "source": [
    "args = {\"fps\": 25, \"post_sync_types\": config.MINOR + config.INCOMING}\n",
    "\n",
    "for game_id in game_ids:\n",
    "    print()\n",
    "    print(game_id)\n",
    "    \n",
    "    input_events: pd.DataFrame = data_dict[game_id][\"events\"]\n",
    "    input_traces: pd.DataFrame = data_dict[game_id][\"traces\"]\n",
    "    annotated: pd.DataFrame = data_dict[game_id][\"annotated_events\"]\n",
    "\n",
    "    input_events = annotated.loc[annotated[\"error_type\"] != \"false_positive\", input_events.columns].copy()\n",
    "    input_events.reset_index(drop=True, inplace=True)\n",
    "\n",
    "    syncer = elastic.ELASTIC(input_events, input_traces, args)\n",
    "    syncer.run()\n",
    "\n",
    "    data_dict[game_id][\"synced_events\"] = syncer.events"
   ]
  },
  {
   "cell_type": "code",
   "execution_count": 28,
   "id": "b4bb0ae2",
   "metadata": {},
   "outputs": [
    {
     "data": {
      "application/vnd.microsoft.datawrangler.viewer.v0+json": {
       "columns": [
        {
         "name": "index",
         "rawType": "object",
         "type": "string"
        },
        {
         "name": "total",
         "rawType": "int64",
         "type": "integer"
        },
        {
         "name": "mean_diff",
         "rawType": "float64",
         "type": "float"
        },
        {
         "name": "exact",
         "rawType": "int64",
         "type": "integer"
        },
        {
         "name": "within_5",
         "rawType": "int64",
         "type": "integer"
        },
        {
         "name": "within_25",
         "rawType": "int64",
         "type": "integer"
        },
        {
         "name": "within_50",
         "rawType": "int64",
         "type": "integer"
        },
        {
         "name": "valid",
         "rawType": "int64",
         "type": "integer"
        }
       ],
       "ref": "bf9d08ea-5105-4d60-96ff-4510213369b7",
       "rows": [
        [
         "pass_like",
         "1590",
         "0.4764930114358323",
         "1502",
         "1550",
         "1565",
         "1570",
         "1574"
        ],
        [
         "set_piece",
         "117",
         "0.12280701754385964",
         "108",
         "113",
         "114",
         "114",
         "114"
        ],
        [
         "incoming",
         "168",
         "35.45263157894737",
         "24",
         "34",
         "50",
         "67",
         "95"
        ],
        [
         "minor",
         "259",
         "13.744769874476987",
         "108",
         "160",
         "185",
         "221",
         "239"
        ],
        [
         "event_start",
         "2134",
         "3.668150346191889",
         "1742",
         "1857",
         "1914",
         "1972",
         "2022"
        ],
        [
         "event_end",
         "1707",
         "10.079025549613785",
         "1483",
         "1542",
         "1576",
         "1607",
         "1683"
        ],
        [
         "total",
         "3841",
         "6.347305389221557",
         "3225",
         "3399",
         "3490",
         "3579",
         "3705"
        ]
       ],
       "shape": {
        "columns": 7,
        "rows": 7
       }
      },
      "text/html": [
       "<div>\n",
       "<style scoped>\n",
       "    .dataframe tbody tr th:only-of-type {\n",
       "        vertical-align: middle;\n",
       "    }\n",
       "\n",
       "    .dataframe tbody tr th {\n",
       "        vertical-align: top;\n",
       "    }\n",
       "\n",
       "    .dataframe thead th {\n",
       "        text-align: right;\n",
       "    }\n",
       "</style>\n",
       "<table border=\"1\" class=\"dataframe\">\n",
       "  <thead>\n",
       "    <tr style=\"text-align: right;\">\n",
       "      <th></th>\n",
       "      <th>total</th>\n",
       "      <th>mean_diff</th>\n",
       "      <th>exact</th>\n",
       "      <th>within_5</th>\n",
       "      <th>within_25</th>\n",
       "      <th>within_50</th>\n",
       "      <th>valid</th>\n",
       "    </tr>\n",
       "  </thead>\n",
       "  <tbody>\n",
       "    <tr>\n",
       "      <th>pass_like</th>\n",
       "      <td>1590</td>\n",
       "      <td>0.476493</td>\n",
       "      <td>1502</td>\n",
       "      <td>1550</td>\n",
       "      <td>1565</td>\n",
       "      <td>1570</td>\n",
       "      <td>1574</td>\n",
       "    </tr>\n",
       "    <tr>\n",
       "      <th>set_piece</th>\n",
       "      <td>117</td>\n",
       "      <td>0.122807</td>\n",
       "      <td>108</td>\n",
       "      <td>113</td>\n",
       "      <td>114</td>\n",
       "      <td>114</td>\n",
       "      <td>114</td>\n",
       "    </tr>\n",
       "    <tr>\n",
       "      <th>incoming</th>\n",
       "      <td>168</td>\n",
       "      <td>35.452632</td>\n",
       "      <td>24</td>\n",
       "      <td>34</td>\n",
       "      <td>50</td>\n",
       "      <td>67</td>\n",
       "      <td>95</td>\n",
       "    </tr>\n",
       "    <tr>\n",
       "      <th>minor</th>\n",
       "      <td>259</td>\n",
       "      <td>13.744770</td>\n",
       "      <td>108</td>\n",
       "      <td>160</td>\n",
       "      <td>185</td>\n",
       "      <td>221</td>\n",
       "      <td>239</td>\n",
       "    </tr>\n",
       "    <tr>\n",
       "      <th>event_start</th>\n",
       "      <td>2134</td>\n",
       "      <td>3.668150</td>\n",
       "      <td>1742</td>\n",
       "      <td>1857</td>\n",
       "      <td>1914</td>\n",
       "      <td>1972</td>\n",
       "      <td>2022</td>\n",
       "    </tr>\n",
       "    <tr>\n",
       "      <th>event_end</th>\n",
       "      <td>1707</td>\n",
       "      <td>10.079026</td>\n",
       "      <td>1483</td>\n",
       "      <td>1542</td>\n",
       "      <td>1576</td>\n",
       "      <td>1607</td>\n",
       "      <td>1683</td>\n",
       "    </tr>\n",
       "    <tr>\n",
       "      <th>total</th>\n",
       "      <td>3841</td>\n",
       "      <td>6.347305</td>\n",
       "      <td>3225</td>\n",
       "      <td>3399</td>\n",
       "      <td>3490</td>\n",
       "      <td>3579</td>\n",
       "      <td>3705</td>\n",
       "    </tr>\n",
       "  </tbody>\n",
       "</table>\n",
       "</div>"
      ],
      "text/plain": [
       "             total  mean_diff  exact  within_5  within_25  within_50  valid\n",
       "pass_like     1590   0.476493   1502      1550       1565       1570   1574\n",
       "set_piece      117   0.122807    108       113        114        114    114\n",
       "incoming       168  35.452632     24        34         50         67     95\n",
       "minor          259  13.744770    108       160        185        221    239\n",
       "event_start   2134   3.668150   1742      1857       1914       1972   2022\n",
       "event_end     1707  10.079026   1483      1542       1576       1607   1683\n",
       "total         3841   6.347305   3225      3399       3490       3579   3705"
      ]
     },
     "metadata": {},
     "output_type": "display_data"
    },
    {
     "data": {
      "application/vnd.microsoft.datawrangler.viewer.v0+json": {
       "columns": [
        {
         "name": "index",
         "rawType": "object",
         "type": "string"
        },
        {
         "name": "exact",
         "rawType": "float64",
         "type": "float"
        },
        {
         "name": "within_5",
         "rawType": "float64",
         "type": "float"
        },
        {
         "name": "within_25",
         "rawType": "float64",
         "type": "float"
        },
        {
         "name": "within_50",
         "rawType": "float64",
         "type": "float"
        },
        {
         "name": "valid",
         "rawType": "float64",
         "type": "float"
        }
       ],
       "ref": "4bdc2247-0c4d-4b7b-9ff6-2ddb1f23083d",
       "rows": [
        [
         "pass_like",
         "0.9446540880503145",
         "0.9748427672955975",
         "0.9842767295597484",
         "0.9874213836477987",
         "0.989937106918239"
        ],
        [
         "set_piece",
         "0.9230769230769231",
         "0.9658119658119658",
         "0.9743589743589743",
         "0.9743589743589743",
         "0.9743589743589743"
        ],
        [
         "incoming",
         "0.14285714285714285",
         "0.20238095238095238",
         "0.2976190476190476",
         "0.39880952380952384",
         "0.5654761904761905"
        ],
        [
         "minor",
         "0.416988416988417",
         "0.6177606177606177",
         "0.7142857142857143",
         "0.8532818532818532",
         "0.9227799227799228"
        ],
        [
         "event_start",
         "0.8163074039362699",
         "0.8701968134957826",
         "0.8969072164948454",
         "0.9240862230552952",
         "0.9475164011246485"
        ],
        [
         "event_end",
         "0.8687756297598125",
         "0.9033391915641477",
         "0.9232571763327475",
         "0.9414176918570591",
         "0.9859402460456942"
        ],
        [
         "total",
         "0.8396250976308253",
         "0.8849258005727675",
         "0.9086175475136683",
         "0.9317885967196042",
         "0.96459255402239"
        ]
       ],
       "shape": {
        "columns": 5,
        "rows": 7
       }
      },
      "text/html": [
       "<div>\n",
       "<style scoped>\n",
       "    .dataframe tbody tr th:only-of-type {\n",
       "        vertical-align: middle;\n",
       "    }\n",
       "\n",
       "    .dataframe tbody tr th {\n",
       "        vertical-align: top;\n",
       "    }\n",
       "\n",
       "    .dataframe thead th {\n",
       "        text-align: right;\n",
       "    }\n",
       "</style>\n",
       "<table border=\"1\" class=\"dataframe\">\n",
       "  <thead>\n",
       "    <tr style=\"text-align: right;\">\n",
       "      <th></th>\n",
       "      <th>exact</th>\n",
       "      <th>within_5</th>\n",
       "      <th>within_25</th>\n",
       "      <th>within_50</th>\n",
       "      <th>valid</th>\n",
       "    </tr>\n",
       "  </thead>\n",
       "  <tbody>\n",
       "    <tr>\n",
       "      <th>pass_like</th>\n",
       "      <td>0.944654</td>\n",
       "      <td>0.974843</td>\n",
       "      <td>0.984277</td>\n",
       "      <td>0.987421</td>\n",
       "      <td>0.989937</td>\n",
       "    </tr>\n",
       "    <tr>\n",
       "      <th>set_piece</th>\n",
       "      <td>0.923077</td>\n",
       "      <td>0.965812</td>\n",
       "      <td>0.974359</td>\n",
       "      <td>0.974359</td>\n",
       "      <td>0.974359</td>\n",
       "    </tr>\n",
       "    <tr>\n",
       "      <th>incoming</th>\n",
       "      <td>0.142857</td>\n",
       "      <td>0.202381</td>\n",
       "      <td>0.297619</td>\n",
       "      <td>0.398810</td>\n",
       "      <td>0.565476</td>\n",
       "    </tr>\n",
       "    <tr>\n",
       "      <th>minor</th>\n",
       "      <td>0.416988</td>\n",
       "      <td>0.617761</td>\n",
       "      <td>0.714286</td>\n",
       "      <td>0.853282</td>\n",
       "      <td>0.922780</td>\n",
       "    </tr>\n",
       "    <tr>\n",
       "      <th>event_start</th>\n",
       "      <td>0.816307</td>\n",
       "      <td>0.870197</td>\n",
       "      <td>0.896907</td>\n",
       "      <td>0.924086</td>\n",
       "      <td>0.947516</td>\n",
       "    </tr>\n",
       "    <tr>\n",
       "      <th>event_end</th>\n",
       "      <td>0.868776</td>\n",
       "      <td>0.903339</td>\n",
       "      <td>0.923257</td>\n",
       "      <td>0.941418</td>\n",
       "      <td>0.985940</td>\n",
       "    </tr>\n",
       "    <tr>\n",
       "      <th>total</th>\n",
       "      <td>0.839625</td>\n",
       "      <td>0.884926</td>\n",
       "      <td>0.908618</td>\n",
       "      <td>0.931789</td>\n",
       "      <td>0.964593</td>\n",
       "    </tr>\n",
       "  </tbody>\n",
       "</table>\n",
       "</div>"
      ],
      "text/plain": [
       "                exact  within_5  within_25  within_50     valid\n",
       "pass_like    0.944654  0.974843   0.984277   0.987421  0.989937\n",
       "set_piece    0.923077  0.965812   0.974359   0.974359  0.974359\n",
       "incoming     0.142857  0.202381   0.297619   0.398810  0.565476\n",
       "minor        0.416988  0.617761   0.714286   0.853282  0.922780\n",
       "event_start  0.816307  0.870197   0.896907   0.924086  0.947516\n",
       "event_end    0.868776  0.903339   0.923257   0.941418  0.985940\n",
       "total        0.839625  0.884926   0.908618   0.931789  0.964593"
      ]
     },
     "metadata": {},
     "output_type": "display_data"
    }
   ],
   "source": [
    "synced = []\n",
    "annotated = []\n",
    "\n",
    "for game_id, data in data_dict.items():\n",
    "    game_events = data[\"synced_events\"]\n",
    "    game_events[\"game_id\"] = game_id\n",
    "    synced.append(game_events)\n",
    "    annotated.append(data[\"corrected_events\"])\n",
    "\n",
    "synced = pd.concat(synced, ignore_index=True)\n",
    "annotated = pd.concat(annotated, ignore_index=True)\n",
    "\n",
    "acc_counts, acc_rates = calc_accuracy(synced, annotated)\n",
    "display(acc_counts)\n",
    "display(acc_rates)"
   ]
  }
 ],
 "metadata": {
  "kernelspec": {
   "display_name": "pyg",
   "language": "python",
   "name": "python3"
  },
  "language_info": {
   "codemirror_mode": {
    "name": "ipython",
    "version": 3
   },
   "file_extension": ".py",
   "mimetype": "text/x-python",
   "name": "python",
   "nbconvert_exporter": "python",
   "pygments_lexer": "ipython3",
   "version": "3.10.16"
  }
 },
 "nbformat": 4,
 "nbformat_minor": 5
}
